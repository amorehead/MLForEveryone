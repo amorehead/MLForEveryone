{
 "cells": [
  {
   "cell_type": "markdown",
   "metadata": {
    "id": "XJy9QoDC7XA7",
    "pycharm": {
     "name": "#%% md\n"
    }
   },
   "source": [
    "# Introduction to Deep Reinforcement Learning\n",
    "## Adapted From \"RL Baselines3 Zoo: Training in Colab\"\n",
    "\n",
    "\n",
    "\n",
    "Github Repo: [https://github.com/DLR-RM/rl-baselines3-zoo](https://github.com/DLR-RM/rl-baselines3-zoo)\n",
    "\n",
    "Stable-Baselines3 Repo: [https://github.com/DLR-RM/rl-baselines3-zoo](https://github.com/DLR-RM/stable-baselines3)\n",
    "\n",
    "\n",
    "# Install Dependencies\n",
    "\n"
   ]
  },
  {
   "cell_type": "code",
   "execution_count": null,
   "metadata": {
    "id": "AXVDDlTn02M9",
    "pycharm": {
     "name": "#%%\n"
    }
   },
   "outputs": [],
   "source": [
    "!apt-get install swig cmake ffmpeg freeglut3-dev xvfb"
   ]
  },
  {
   "cell_type": "markdown",
   "metadata": {
    "id": "kDjF3qRg7oGH",
    "pycharm": {
     "name": "#%% md\n"
    }
   },
   "source": [
    "## Clone RL Baselines3 Zoo Repo"
   ]
  },
  {
   "cell_type": "code",
   "execution_count": null,
   "metadata": {
    "id": "SCjGikdT1DFy",
    "pycharm": {
     "name": "#%%\n"
    }
   },
   "outputs": [],
   "source": [
    "!git clone --recursive https://github.com/DLR-RM/rl-baselines3-zoo"
   ]
  },
  {
   "cell_type": "code",
   "execution_count": null,
   "metadata": {
    "id": "REMQlh-ezyVt",
    "pycharm": {
     "name": "#%%\n"
    }
   },
   "outputs": [],
   "source": [
    "%cd /content/rl-baselines3-zoo/"
   ]
  },
  {
   "cell_type": "markdown",
   "metadata": {
    "id": "5tmD_QTBqTMb",
    "pycharm": {
     "name": "#%% md\n"
    }
   },
   "source": [
    "### Install pip dependencies"
   ]
  },
  {
   "cell_type": "code",
   "execution_count": null,
   "metadata": {
    "id": "OWIDzgJTqShY",
    "pycharm": {
     "name": "#%%\n"
    }
   },
   "outputs": [],
   "source": [
    "!pip install -r requirements.txt"
   ]
  },
  {
   "cell_type": "markdown",
   "metadata": {
    "id": "6gJ-pAbF7zRZ",
    "pycharm": {
     "name": "#%% md\n"
    }
   },
   "source": [
    "## Train an RL Agent\n",
    "\n",
    "\n",
    "The train agent can be found in the `logs/` folder.\n",
    "\n",
    "Here we will train A2C on CartPole-v1 environment for 100 000 steps. \n",
    "\n",
    "\n",
    "To train it on Pong (Atari), you just have to pass `--env PongNoFrameskip-v4`\n",
    "\n",
    "Note: You need to update `hyperparams/algo.yml` to support new environments. You can access it in the side panel of Google Colab. (see https://stackoverflow.com/questions/46986398/import-data-into-google-colaboratory)"
   ]
  },
  {
   "cell_type": "code",
   "execution_count": null,
   "metadata": {
    "id": "9bIR_N7R11XI",
    "pycharm": {
     "name": "#%%\n"
    }
   },
   "outputs": [],
   "source": [
    "!python train.py --algo a2c --env CartPole-v1 --n-timesteps 100000"
   ]
  },
  {
   "cell_type": "markdown",
   "metadata": {
    "id": "-fHBq73665yD",
    "pycharm": {
     "name": "#%% md\n"
    }
   },
   "source": [
    "#### Evaluate trained agent\n",
    "\n",
    "\n",
    "You can remove the `--folder logs/` to evaluate pretrained agent."
   ]
  },
  {
   "cell_type": "code",
   "execution_count": null,
   "metadata": {
    "id": "Bw8YuEgU6bT3",
    "pycharm": {
     "name": "#%%\n"
    }
   },
   "outputs": [],
   "source": [
    "!python enjoy.py --algo a2c --env CartPole-v1 --no-render --n-timesteps 5000 --folder logs/"
   ]
  },
  {
   "cell_type": "markdown",
   "metadata": {
    "id": "w5Il2J0VHPLC",
    "pycharm": {
     "name": "#%% md\n"
    }
   },
   "source": [
    "#### Tune Hyperparameters\n",
    "\n",
    "We use [Optuna](https://optuna.org/) for optimizing the hyperparameters.\n",
    "\n",
    "Tune the hyperparameters for PPO, using a tpe sampler and median pruner, 2 parallels jobs,\n",
    "with a budget of 1000 trials and a maximum of 50000 steps"
   ]
  },
  {
   "cell_type": "code",
   "execution_count": null,
   "metadata": {
    "id": "w2sC22eGHTH-",
    "pycharm": {
     "name": "#%%\n"
    }
   },
   "outputs": [],
   "source": [
    "# !python train.py --algo ppo --env MountainCar-v0 -n 50000 -optimize --n-trials 1000 --n-jobs 2 --sampler tpe --pruner median"
   ]
  },
  {
   "cell_type": "markdown",
   "metadata": {
    "id": "xVm9QPNVwKXN",
    "pycharm": {
     "name": "#%% md\n"
    }
   },
   "source": [
    "### Record  a Video"
   ]
  },
  {
   "cell_type": "code",
   "execution_count": null,
   "metadata": {
    "id": "MPyfQxD5z26J",
    "pycharm": {
     "name": "#%%\n"
    }
   },
   "outputs": [],
   "source": [
    "# Set up display; otherwise rendering will fail\n",
    "import os\n",
    "os.system(\"Xvfb :1 -screen 0 1024x768x24 &\")\n",
    "os.environ['DISPLAY'] = ':1'"
   ]
  },
  {
   "cell_type": "code",
   "execution_count": null,
   "metadata": {
    "id": "ip3AauLzwNGP",
    "pycharm": {
     "name": "#%%\n"
    }
   },
   "outputs": [],
   "source": [
    "!python -m utils.record_video --algo a2c --env CartPole-v1 --exp-id 0 -f logs/ -n 1000"
   ]
  },
  {
   "cell_type": "markdown",
   "metadata": {
    "id": "qBuUfnzI8DN6",
    "pycharm": {
     "name": "#%% md\n"
    }
   },
   "source": [
    "### Display the video"
   ]
  },
  {
   "cell_type": "code",
   "execution_count": null,
   "metadata": {
    "id": "ZC3OTfpf8CXu",
    "pycharm": {
     "name": "#%%\n"
    }
   },
   "outputs": [],
   "source": [
    "import base64\n",
    "from pathlib import Path\n",
    "\n",
    "from IPython import display as ipythondisplay\n",
    "\n",
    "def show_videos(video_path='', prefix=''):\n",
    "  \"\"\"\n",
    "  Taken from https://github.com/eleurent/highway-env\n",
    "\n",
    "  :param video_path: (str) Path to the folder containing videos\n",
    "  :param prefix: (str) Filter the video, showing only the only starting with this prefix\n",
    "  \"\"\"\n",
    "  html = []\n",
    "  for mp4 in Path(video_path).glob(\"{}*.mp4\".format(prefix)):\n",
    "      video_b64 = base64.b64encode(mp4.read_bytes())\n",
    "      html.append('''<video alt=\"{}\" autoplay \n",
    "                    loop controls style=\"height: 400px;\">\n",
    "                    <source src=\"data:video/mp4;base64,{}\" type=\"video/mp4\" />\n",
    "                </video>'''.format(mp4, video_b64.decode('ascii')))\n",
    "  ipythondisplay.display(ipythondisplay.HTML(data=\"<br>\".join(html)))"
   ]
  },
  {
   "cell_type": "code",
   "execution_count": null,
   "metadata": {
    "id": "oKOjFuwK9HI0",
    "pycharm": {
     "name": "#%%\n"
    }
   },
   "outputs": [],
   "source": [
    "show_videos(video_path='logs/a2c/CartPole-v1_1/videos/', prefix='')"
   ]
  },
  {
   "cell_type": "markdown",
   "metadata": {
    "id": "RjdpP0HE8D2p",
    "pycharm": {
     "name": "#%% md\n"
    }
   },
   "source": [
    "### Continue Training\n",
    "\n",
    "Here, we will continue training of the previous model"
   ]
  },
  {
   "cell_type": "code",
   "execution_count": null,
   "metadata": {
    "id": "zgMZQJJF6u1C",
    "pycharm": {
     "name": "#%%\n"
    }
   },
   "outputs": [],
   "source": [
    "!python train.py --algo a2c --env CartPole-v1 --n-timesteps 50000 -i logs/a2c/CartPole-v1_1/CartPole-v1.zip"
   ]
  },
  {
   "cell_type": "code",
   "execution_count": null,
   "metadata": {
    "id": "GSaoyiAE8cVj",
    "pycharm": {
     "name": "#%%\n"
    }
   },
   "outputs": [],
   "source": [
    "!python enjoy.py --algo a2c --env CartPole-v1 --no-render --n-timesteps 1000 --folder logs/"
   ]
  },
  {
   "cell_type": "code",
   "execution_count": null,
   "metadata": {
    "id": "jL9u4I1H-48O",
    "pycharm": {
     "name": "#%%\n"
    }
   },
   "outputs": [],
   "source": []
  }
 ],
 "metadata": {
  "accelerator": "GPU",
  "colab": {
   "collapsed_sections": [],
   "name": "rl-baselines-zoo.ipynb",
   "provenance": []
  },
  "kernelspec": {
   "display_name": "Python 3 (ipykernel)",
   "language": "python",
   "name": "python3"
  },
  "language_info": {
   "codemirror_mode": {
    "name": "ipython",
    "version": 3
   },
   "file_extension": ".py",
   "mimetype": "text/x-python",
   "name": "python",
   "nbconvert_exporter": "python",
   "pygments_lexer": "ipython3",
   "version": "3.8.13"
  }
 },
 "nbformat": 4,
 "nbformat_minor": 1
}
